{
 "cells": [
  {
   "cell_type": "markdown",
   "id": "f8f5f84d",
   "metadata": {},
   "source": [
    "🔍 What is KNN?\n",
    "K-Nearest Neighbors (KNN) is a supervised machine learning algorithm used for both classification and regression. However, it is more widely used for classification tasks.\n",
    "\n",
    "KNN is a non-parametric, instance-based learning algorithm. It doesn't learn an explicit model; instead, it memorizes the training data and makes decisions at the time of prediction.\n",
    "\n",
    "🧠 How Does KNN Work?\n",
    "Choose the number of neighbors, K.\n",
    "\n",
    "Calculate the distance between the query point and all data points (commonly used: Euclidean distance).\n",
    "\n",
    "Select the K nearest neighbors.\n",
    "\n",
    "For classification: assign the class with the majority vote among the neighbors.\n",
    "\n",
    "For regression: compute the average of the target values of the K nearest neighbors.\n",
    "\n",
    "📐 Common Distance Metrics\n",
    "Euclidean Distance: sqrt((x1 - x2)² + (y1 - y2)²)\n",
    "\n",
    "Manhattan Distance: |x1 - x2| + |y1 - y2|\n",
    "\n",
    "\n",
    "\n",
    "⚙️ Choosing K\n",
    "A small K (e.g., 1) can be noisy and lead to overfitting.\n",
    "\n",
    "A large K smooths out predictions but may underfit.\n",
    "\n",
    "Typically, an odd number is chosen to avoid ties in binary classification.\n",
    "\n",
    "✅ Advantages\n",
    "Simple to implement and understand.\n",
    "\n",
    "No training phase (lazy learner).\n",
    "\n",
    "Adaptable to multi-class problems.\n",
    "\n",
    "❌ Disadvantages\n",
    "Computationally expensive for large datasets (since it needs to compute distance to all points).\n",
    "\n",
    "Sensitive to irrelevant features and the scale of the data.\n",
    "\n",
    "Poor performance on high-dimensional data due to the \"curse of dimensionality\".\n",
    "\n",
    "🛠️ Tips\n",
    "Always normalize or scale your features (e.g., using StandardScaler or MinMaxScaler).\n",
    "\n",
    "Use Cross-Validation to choose the optimal value of K.\n",
    "\n",
    "Use KD-Trees or Ball Trees for faster nearest-neighbor search in large datasets.\n",
    "\n"
   ]
  },
  {
   "cell_type": "code",
   "execution_count": 12,
   "id": "e7673a38",
   "metadata": {},
   "outputs": [],
   "source": [
    "import pandas as pd\n",
    "import matplotlib.pyplot as plt\n",
    "import seaborn as sns\n",
    "from sklearn.model_selection import train_test_split, GridSearchCV\n",
    "from sklearn.neighbors import KNeighborsClassifier\n",
    "from sklearn.metrics import accuracy_score\n",
    "from sklearn.preprocessing import MinMaxScaler"
   ]
  },
  {
   "cell_type": "code",
   "execution_count": 2,
   "id": "86017ab0",
   "metadata": {},
   "outputs": [],
   "source": [
    "data=pd.read_csv(\"glass.csv\")"
   ]
  },
  {
   "cell_type": "code",
   "execution_count": 3,
   "id": "b1810d59",
   "metadata": {},
   "outputs": [
    {
     "data": {
      "text/html": [
       "<div>\n",
       "<style scoped>\n",
       "    .dataframe tbody tr th:only-of-type {\n",
       "        vertical-align: middle;\n",
       "    }\n",
       "\n",
       "    .dataframe tbody tr th {\n",
       "        vertical-align: top;\n",
       "    }\n",
       "\n",
       "    .dataframe thead th {\n",
       "        text-align: right;\n",
       "    }\n",
       "</style>\n",
       "<table border=\"1\" class=\"dataframe\">\n",
       "  <thead>\n",
       "    <tr style=\"text-align: right;\">\n",
       "      <th></th>\n",
       "      <th>RI</th>\n",
       "      <th>Na</th>\n",
       "      <th>Mg</th>\n",
       "      <th>Al</th>\n",
       "      <th>Si</th>\n",
       "      <th>K</th>\n",
       "      <th>Ca</th>\n",
       "      <th>Ba</th>\n",
       "      <th>Fe</th>\n",
       "      <th>Type</th>\n",
       "    </tr>\n",
       "  </thead>\n",
       "  <tbody>\n",
       "    <tr>\n",
       "      <th>0</th>\n",
       "      <td>1.52101</td>\n",
       "      <td>13.64</td>\n",
       "      <td>4.49</td>\n",
       "      <td>1.10</td>\n",
       "      <td>71.78</td>\n",
       "      <td>0.06</td>\n",
       "      <td>8.75</td>\n",
       "      <td>0.0</td>\n",
       "      <td>0.0</td>\n",
       "      <td>1</td>\n",
       "    </tr>\n",
       "    <tr>\n",
       "      <th>1</th>\n",
       "      <td>1.51761</td>\n",
       "      <td>13.89</td>\n",
       "      <td>3.60</td>\n",
       "      <td>1.36</td>\n",
       "      <td>72.73</td>\n",
       "      <td>0.48</td>\n",
       "      <td>7.83</td>\n",
       "      <td>0.0</td>\n",
       "      <td>0.0</td>\n",
       "      <td>1</td>\n",
       "    </tr>\n",
       "    <tr>\n",
       "      <th>2</th>\n",
       "      <td>1.51618</td>\n",
       "      <td>13.53</td>\n",
       "      <td>3.55</td>\n",
       "      <td>1.54</td>\n",
       "      <td>72.99</td>\n",
       "      <td>0.39</td>\n",
       "      <td>7.78</td>\n",
       "      <td>0.0</td>\n",
       "      <td>0.0</td>\n",
       "      <td>1</td>\n",
       "    </tr>\n",
       "    <tr>\n",
       "      <th>3</th>\n",
       "      <td>1.51766</td>\n",
       "      <td>13.21</td>\n",
       "      <td>3.69</td>\n",
       "      <td>1.29</td>\n",
       "      <td>72.61</td>\n",
       "      <td>0.57</td>\n",
       "      <td>8.22</td>\n",
       "      <td>0.0</td>\n",
       "      <td>0.0</td>\n",
       "      <td>1</td>\n",
       "    </tr>\n",
       "    <tr>\n",
       "      <th>4</th>\n",
       "      <td>1.51742</td>\n",
       "      <td>13.27</td>\n",
       "      <td>3.62</td>\n",
       "      <td>1.24</td>\n",
       "      <td>73.08</td>\n",
       "      <td>0.55</td>\n",
       "      <td>8.07</td>\n",
       "      <td>0.0</td>\n",
       "      <td>0.0</td>\n",
       "      <td>1</td>\n",
       "    </tr>\n",
       "  </tbody>\n",
       "</table>\n",
       "</div>"
      ],
      "text/plain": [
       "        RI     Na    Mg    Al     Si     K    Ca   Ba   Fe  Type\n",
       "0  1.52101  13.64  4.49  1.10  71.78  0.06  8.75  0.0  0.0     1\n",
       "1  1.51761  13.89  3.60  1.36  72.73  0.48  7.83  0.0  0.0     1\n",
       "2  1.51618  13.53  3.55  1.54  72.99  0.39  7.78  0.0  0.0     1\n",
       "3  1.51766  13.21  3.69  1.29  72.61  0.57  8.22  0.0  0.0     1\n",
       "4  1.51742  13.27  3.62  1.24  73.08  0.55  8.07  0.0  0.0     1"
      ]
     },
     "execution_count": 3,
     "metadata": {},
     "output_type": "execute_result"
    }
   ],
   "source": [
    "data.head()"
   ]
  },
  {
   "cell_type": "code",
   "execution_count": 4,
   "id": "4c75a573",
   "metadata": {},
   "outputs": [
    {
     "data": {
      "text/plain": [
       "Type\n",
       "2    76\n",
       "1    70\n",
       "7    29\n",
       "3    17\n",
       "5    13\n",
       "6     9\n",
       "Name: count, dtype: int64"
      ]
     },
     "execution_count": 4,
     "metadata": {},
     "output_type": "execute_result"
    }
   ],
   "source": [
    "data[\"Type\"].value_counts()"
   ]
  },
  {
   "cell_type": "code",
   "execution_count": 5,
   "id": "1bdd5206",
   "metadata": {},
   "outputs": [
    {
     "data": {
      "text/plain": [
       "1"
      ]
     },
     "execution_count": 5,
     "metadata": {},
     "output_type": "execute_result"
    }
   ],
   "source": [
    "data.duplicated().sum()"
   ]
  },
  {
   "cell_type": "code",
   "execution_count": 6,
   "id": "d9c171db",
   "metadata": {},
   "outputs": [],
   "source": [
    "data.drop_duplicates(inplace=True)"
   ]
  },
  {
   "cell_type": "code",
   "execution_count": 7,
   "id": "12a5e74b",
   "metadata": {},
   "outputs": [],
   "source": [
    "X=data.drop(\"Type\",axis=1)"
   ]
  },
  {
   "cell_type": "code",
   "execution_count": 8,
   "id": "af4f8b2a",
   "metadata": {},
   "outputs": [
    {
     "data": {
      "text/html": [
       "<div>\n",
       "<style scoped>\n",
       "    .dataframe tbody tr th:only-of-type {\n",
       "        vertical-align: middle;\n",
       "    }\n",
       "\n",
       "    .dataframe tbody tr th {\n",
       "        vertical-align: top;\n",
       "    }\n",
       "\n",
       "    .dataframe thead th {\n",
       "        text-align: right;\n",
       "    }\n",
       "</style>\n",
       "<table border=\"1\" class=\"dataframe\">\n",
       "  <thead>\n",
       "    <tr style=\"text-align: right;\">\n",
       "      <th></th>\n",
       "      <th>RI</th>\n",
       "      <th>Na</th>\n",
       "      <th>Mg</th>\n",
       "      <th>Al</th>\n",
       "      <th>Si</th>\n",
       "      <th>K</th>\n",
       "      <th>Ca</th>\n",
       "      <th>Ba</th>\n",
       "      <th>Fe</th>\n",
       "    </tr>\n",
       "  </thead>\n",
       "  <tbody>\n",
       "    <tr>\n",
       "      <th>0</th>\n",
       "      <td>1.52101</td>\n",
       "      <td>13.64</td>\n",
       "      <td>4.49</td>\n",
       "      <td>1.10</td>\n",
       "      <td>71.78</td>\n",
       "      <td>0.06</td>\n",
       "      <td>8.75</td>\n",
       "      <td>0.00</td>\n",
       "      <td>0.0</td>\n",
       "    </tr>\n",
       "    <tr>\n",
       "      <th>1</th>\n",
       "      <td>1.51761</td>\n",
       "      <td>13.89</td>\n",
       "      <td>3.60</td>\n",
       "      <td>1.36</td>\n",
       "      <td>72.73</td>\n",
       "      <td>0.48</td>\n",
       "      <td>7.83</td>\n",
       "      <td>0.00</td>\n",
       "      <td>0.0</td>\n",
       "    </tr>\n",
       "    <tr>\n",
       "      <th>2</th>\n",
       "      <td>1.51618</td>\n",
       "      <td>13.53</td>\n",
       "      <td>3.55</td>\n",
       "      <td>1.54</td>\n",
       "      <td>72.99</td>\n",
       "      <td>0.39</td>\n",
       "      <td>7.78</td>\n",
       "      <td>0.00</td>\n",
       "      <td>0.0</td>\n",
       "    </tr>\n",
       "    <tr>\n",
       "      <th>3</th>\n",
       "      <td>1.51766</td>\n",
       "      <td>13.21</td>\n",
       "      <td>3.69</td>\n",
       "      <td>1.29</td>\n",
       "      <td>72.61</td>\n",
       "      <td>0.57</td>\n",
       "      <td>8.22</td>\n",
       "      <td>0.00</td>\n",
       "      <td>0.0</td>\n",
       "    </tr>\n",
       "    <tr>\n",
       "      <th>4</th>\n",
       "      <td>1.51742</td>\n",
       "      <td>13.27</td>\n",
       "      <td>3.62</td>\n",
       "      <td>1.24</td>\n",
       "      <td>73.08</td>\n",
       "      <td>0.55</td>\n",
       "      <td>8.07</td>\n",
       "      <td>0.00</td>\n",
       "      <td>0.0</td>\n",
       "    </tr>\n",
       "    <tr>\n",
       "      <th>...</th>\n",
       "      <td>...</td>\n",
       "      <td>...</td>\n",
       "      <td>...</td>\n",
       "      <td>...</td>\n",
       "      <td>...</td>\n",
       "      <td>...</td>\n",
       "      <td>...</td>\n",
       "      <td>...</td>\n",
       "      <td>...</td>\n",
       "    </tr>\n",
       "    <tr>\n",
       "      <th>209</th>\n",
       "      <td>1.51623</td>\n",
       "      <td>14.14</td>\n",
       "      <td>0.00</td>\n",
       "      <td>2.88</td>\n",
       "      <td>72.61</td>\n",
       "      <td>0.08</td>\n",
       "      <td>9.18</td>\n",
       "      <td>1.06</td>\n",
       "      <td>0.0</td>\n",
       "    </tr>\n",
       "    <tr>\n",
       "      <th>210</th>\n",
       "      <td>1.51685</td>\n",
       "      <td>14.92</td>\n",
       "      <td>0.00</td>\n",
       "      <td>1.99</td>\n",
       "      <td>73.06</td>\n",
       "      <td>0.00</td>\n",
       "      <td>8.40</td>\n",
       "      <td>1.59</td>\n",
       "      <td>0.0</td>\n",
       "    </tr>\n",
       "    <tr>\n",
       "      <th>211</th>\n",
       "      <td>1.52065</td>\n",
       "      <td>14.36</td>\n",
       "      <td>0.00</td>\n",
       "      <td>2.02</td>\n",
       "      <td>73.42</td>\n",
       "      <td>0.00</td>\n",
       "      <td>8.44</td>\n",
       "      <td>1.64</td>\n",
       "      <td>0.0</td>\n",
       "    </tr>\n",
       "    <tr>\n",
       "      <th>212</th>\n",
       "      <td>1.51651</td>\n",
       "      <td>14.38</td>\n",
       "      <td>0.00</td>\n",
       "      <td>1.94</td>\n",
       "      <td>73.61</td>\n",
       "      <td>0.00</td>\n",
       "      <td>8.48</td>\n",
       "      <td>1.57</td>\n",
       "      <td>0.0</td>\n",
       "    </tr>\n",
       "    <tr>\n",
       "      <th>213</th>\n",
       "      <td>1.51711</td>\n",
       "      <td>14.23</td>\n",
       "      <td>0.00</td>\n",
       "      <td>2.08</td>\n",
       "      <td>73.36</td>\n",
       "      <td>0.00</td>\n",
       "      <td>8.62</td>\n",
       "      <td>1.67</td>\n",
       "      <td>0.0</td>\n",
       "    </tr>\n",
       "  </tbody>\n",
       "</table>\n",
       "<p>213 rows × 9 columns</p>\n",
       "</div>"
      ],
      "text/plain": [
       "          RI     Na    Mg    Al     Si     K    Ca    Ba   Fe\n",
       "0    1.52101  13.64  4.49  1.10  71.78  0.06  8.75  0.00  0.0\n",
       "1    1.51761  13.89  3.60  1.36  72.73  0.48  7.83  0.00  0.0\n",
       "2    1.51618  13.53  3.55  1.54  72.99  0.39  7.78  0.00  0.0\n",
       "3    1.51766  13.21  3.69  1.29  72.61  0.57  8.22  0.00  0.0\n",
       "4    1.51742  13.27  3.62  1.24  73.08  0.55  8.07  0.00  0.0\n",
       "..       ...    ...   ...   ...    ...   ...   ...   ...  ...\n",
       "209  1.51623  14.14  0.00  2.88  72.61  0.08  9.18  1.06  0.0\n",
       "210  1.51685  14.92  0.00  1.99  73.06  0.00  8.40  1.59  0.0\n",
       "211  1.52065  14.36  0.00  2.02  73.42  0.00  8.44  1.64  0.0\n",
       "212  1.51651  14.38  0.00  1.94  73.61  0.00  8.48  1.57  0.0\n",
       "213  1.51711  14.23  0.00  2.08  73.36  0.00  8.62  1.67  0.0\n",
       "\n",
       "[213 rows x 9 columns]"
      ]
     },
     "execution_count": 8,
     "metadata": {},
     "output_type": "execute_result"
    }
   ],
   "source": [
    "X"
   ]
  },
  {
   "cell_type": "code",
   "execution_count": 10,
   "id": "ee1e4081",
   "metadata": {},
   "outputs": [],
   "source": [
    "y=data[\"Type\"]"
   ]
  },
  {
   "cell_type": "code",
   "execution_count": 11,
   "id": "6289fd31",
   "metadata": {},
   "outputs": [
    {
     "data": {
      "text/plain": [
       "0      1\n",
       "1      1\n",
       "2      1\n",
       "3      1\n",
       "4      1\n",
       "      ..\n",
       "209    7\n",
       "210    7\n",
       "211    7\n",
       "212    7\n",
       "213    7\n",
       "Name: Type, Length: 213, dtype: int64"
      ]
     },
     "execution_count": 11,
     "metadata": {},
     "output_type": "execute_result"
    }
   ],
   "source": [
    "y\n"
   ]
  },
  {
   "cell_type": "code",
   "execution_count": 13,
   "id": "5fea29f3",
   "metadata": {},
   "outputs": [],
   "source": [
    "# Split the data into training and testing sets\n",
    "X_train, X_test, y_train, y_test = train_test_split(X, y, test_size=0.2, random_state=42)"
   ]
  },
  {
   "cell_type": "code",
   "execution_count": 14,
   "id": "9ef3f2d8",
   "metadata": {},
   "outputs": [],
   "source": [
    "# scaling\n",
    "scaler = MinMaxScaler()\n",
    "X_train = scaler.fit_transform(X_train)\n",
    "X_test = scaler.transform(X_test)"
   ]
  },
  {
   "cell_type": "code",
   "execution_count": 15,
   "id": "93f5fad3",
   "metadata": {},
   "outputs": [
    {
     "data": {
      "text/plain": [
       "array([[0.20939421, 0.32030075, 0.78396437, ..., 0.20961538, 0.        ,\n",
       "        0.        ],\n",
       "       [0.48112379, 0.52030075, 0.84187082, ..., 0.32211538, 0.        ,\n",
       "        0.7254902 ],\n",
       "       [0.67998244, 0.07518797, 0.        , ..., 0.85480769, 0.        ,\n",
       "        0.        ],\n",
       "       ...,\n",
       "       [0.20851624, 0.37744361, 0.74387528, ..., 0.23365385, 0.        ,\n",
       "        0.        ],\n",
       "       [0.08077261, 0.5518797 , 0.38752784, ..., 0.17307692, 0.        ,\n",
       "        0.        ],\n",
       "       [0.70676032, 0.46165414, 0.70155902, ..., 0.5625    , 0.        ,\n",
       "        0.        ]])"
      ]
     },
     "execution_count": 15,
     "metadata": {},
     "output_type": "execute_result"
    }
   ],
   "source": [
    "X_train"
   ]
  },
  {
   "cell_type": "code",
   "execution_count": 16,
   "id": "baf75c7e",
   "metadata": {},
   "outputs": [
    {
     "data": {
      "text/plain": [
       "array([[ 0.2809482 ,  0.34135338,  0.80178174,  0.33333333,  0.56785714,\n",
       "         0.33928571,  0.25096154,  0.        ,  0.21568627],\n",
       "       [ 0.18261633,  0.54887218,  0.        ,  0.73831776,  0.5875    ,\n",
       "         0.02380952,  0.31634615,  0.2031746 ,  0.        ],\n",
       "       [ 0.45522388,  0.34887218,  0.81291759,  0.18068536,  0.44821429,\n",
       "         0.11309524,  0.39038462,  0.        ,  0.33333333],\n",
       "       [ 0.22300263,  0.52180451,  0.        ,  0.7788162 ,  0.65178571,\n",
       "         0.02380952,  0.3125    ,  0.12698413,  0.17647059],\n",
       "       [ 0.24495171,  0.38646617,  0.81069042,  0.38629283,  0.48571429,\n",
       "         0.38690476,  0.21538462,  0.        ,  0.56862745],\n",
       "       [ 0.72958736,  0.28721805,  0.        ,  0.11838006,  0.39464286,\n",
       "         0.03571429,  0.82788462,  0.        ,  0.        ],\n",
       "       [ 0.28358209,  0.31278195,  0.78841871,  0.29283489,  0.6125    ,\n",
       "         0.3452381 ,  0.25      ,  0.        ,  0.        ],\n",
       "       [ 0.23266023,  0.40150376,  0.77728285,  0.38317757,  0.50714286,\n",
       "         0.39880952,  0.22019231,  0.        ,  0.19607843],\n",
       "       [ 0.23266023,  0.4075188 ,  0.80400891,  0.3894081 ,  0.46071429,\n",
       "         0.39285714,  0.21538462,  0.        ,  0.        ],\n",
       "       [ 0.31782265,  0.31879699,  0.81737194,  0.29595016,  0.49285714,\n",
       "         0.36904762,  0.27788462,  0.        ,  0.68627451],\n",
       "       [ 0.37489025,  0.57593985,  0.        ,  0.08411215,  0.65535714,\n",
       "         0.        ,  0.52211538,  0.        ,  0.        ],\n",
       "       [ 0.08823529,  0.3443609 ,  0.        ,  0.85669782,  0.11964286,\n",
       "         3.69642857,  0.1125    ,  0.        ,  0.        ],\n",
       "       [ 0.24012291,  0.31879699,  0.78173719,  0.35825545,  0.57142857,\n",
       "         0.4047619 ,  0.23461538,  0.01904762,  0.49019608],\n",
       "       [ 0.21115013,  0.3443609 ,  0.79287305,  0.3894081 ,  0.58928571,\n",
       "         0.42857143,  0.20288462,  0.        ,  0.        ],\n",
       "       [ 0.32352941,  0.50526316,  0.48775056,  0.42679128,  0.51071429,\n",
       "         0.        ,  0.33942308,  0.        ,  0.        ],\n",
       "       [ 0.24187884,  0.32030075,  0.        ,  0.47975078,  0.72678571,\n",
       "         0.57738095,  0.42115385,  0.        ,  0.        ],\n",
       "       [ 0.21378402,  0.61954887,  0.        ,  0.65109034,  0.61964286,\n",
       "         0.        ,  0.28557692,  0.2031746 ,  0.17647059],\n",
       "       [ 0.34942932,  0.47669173,  0.83073497,  0.27725857,  0.4125    ,\n",
       "         0.03571429,  0.29807692,  0.        ,  0.        ],\n",
       "       [ 0.3309921 ,  0.36992481,  0.75055679,  0.27725857,  0.51964286,\n",
       "         0.33928571,  0.29230769,  0.        ,  0.31372549],\n",
       "       [ 0.00702371,  0.44511278,  0.71269488,  0.47352025,  0.53571429,\n",
       "         1.04761905, -0.03461538,  0.37777778,  0.        ],\n",
       "       [ 0.30553117,  0.33533835,  0.65924276,  0.35514019,  0.55535714,\n",
       "         0.35714286,  0.28846154,  0.04444444,  0.        ],\n",
       "       [ 0.22300263,  0.51278195,  0.        ,  0.80685358,  0.5       ,\n",
       "         0.04761905,  0.32596154,  0.33650794,  0.        ],\n",
       "       [ 0.41703248,  0.54586466,  0.        ,  0.53894081,  0.64464286,\n",
       "         0.        ,  0.25480769,  0.52063492,  0.        ],\n",
       "       [ 0.19359087,  0.47218045,  0.        ,  0.70093458,  0.61071429,\n",
       "         0.08333333,  0.34807692,  0.25714286,  0.01960784],\n",
       "       [ 0.23178227,  0.21503759,  0.78396437,  0.33021807,  0.55      ,\n",
       "         0.33928571,  0.26346154,  0.        ,  0.        ],\n",
       "       [ 0.59701493,  0.10827068,  0.        ,  0.4953271 ,  0.425     ,\n",
       "         0.48214286,  0.71634615,  0.        ,  0.66666667],\n",
       "       [ 0.28665496,  0.2887218 ,  0.79287305,  0.31464174,  0.58392857,\n",
       "         0.36309524,  0.27884615,  0.        ,  0.2745098 ],\n",
       "       [ 0.28489903,  0.33834586,  0.78841871,  0.28660436,  0.56964286,\n",
       "         0.38690476,  0.26346154,  0.        ,  0.        ],\n",
       "       [ 0.34679543,  0.49172932,  0.53229399,  0.39563863,  0.45714286,\n",
       "         0.        ,  0.36346154,  0.        ,  0.        ],\n",
       "       [ 0.29367867,  0.29323308,  0.81737194,  0.27102804,  0.58928571,\n",
       "         0.36309524,  0.27980769,  0.        ,  0.        ],\n",
       "       [ 0.04389816,  0.33984962,  0.77282851,  0.25856698,  0.56607143,\n",
       "         0.36904762,  0.24615385,  0.        ,  0.60784314],\n",
       "       [ 0.24539069,  0.32180451,  0.79287305,  0.42056075,  0.59464286,\n",
       "         0.38690476,  0.21153846,  0.        ,  0.        ],\n",
       "       [ 0.29894644,  0.41654135,  0.74832962,  0.41744548,  0.38035714,\n",
       "         0.33928571,  0.29038462,  0.        ,  0.17647059],\n",
       "       [ 0.22563652,  0.29774436,  0.74164811,  0.37383178,  0.61964286,\n",
       "         0.39880952,  0.23557692,  0.        ,  0.        ],\n",
       "       [ 0.20149254,  0.62105263,  0.81737194,  0.4517134 ,  0.36785714,\n",
       "         0.0952381 ,  0.15096154,  0.        ,  0.23529412],\n",
       "       [ 0.23836699,  0.61203008,  0.        ,  0.52959502,  0.58928571,\n",
       "         0.        ,  0.23942308,  0.54285714,  0.        ],\n",
       "       [ 0.0904302 ,  0.34135338,  0.        ,  0.85046729,  0.15892857,\n",
       "         3.69642857,  0.10961538,  0.        ,  0.        ],\n",
       "       [ 0.21729587,  0.40451128,  0.75723831,  0.28971963,  0.51428571,\n",
       "         0.35119048,  0.24326923,  0.        ,  0.        ],\n",
       "       [ 0.25197542,  0.29172932,  0.64142539,  0.4423676 ,  0.60714286,\n",
       "         0.43452381,  0.26442308,  0.        ,  0.        ],\n",
       "       [ 0.2238806 ,  0.39548872,  0.79732739,  0.37383178,  0.51964286,\n",
       "         0.26785714,  0.23269231,  0.        ,  0.        ],\n",
       "       [ 0.309482  ,  0.28421053,  0.61469933,  0.1682243 ,  0.71428571,\n",
       "         0.20833333,  0.34903846,  0.        ,  0.39215686],\n",
       "       [ 0.23617208,  0.18345865,  0.        ,  0.28037383,  0.95892857,\n",
       "         1.60714286,  0.30192308,  0.        ,  0.        ],\n",
       "       [ 0.37840211,  0.46315789,  0.79732739,  0.32087227,  0.34107143,\n",
       "         0.07142857,  0.27692308,  0.21904762,  0.        ]])"
      ]
     },
     "execution_count": 16,
     "metadata": {},
     "output_type": "execute_result"
    }
   ],
   "source": [
    "X_test\n"
   ]
  },
  {
   "cell_type": "code",
   "execution_count": 18,
   "id": "73de0503",
   "metadata": {},
   "outputs": [],
   "source": [
    "def knn_training(X_train,y_train,X_test,K):\n",
    "    '''\n",
    "    X_train--> training data\n",
    "    y_train--> label for the training\n",
    "    X_test--> it is for the validation\n",
    "    K--> it is number of the nearest neighbours\n",
    "    \n",
    "    '''\n",
    "    knn = KNeighborsClassifier(n_neighbors = K)\n",
    "    knn.fit(X_train,y_train)\n",
    "    prediction = knn.predict(X_test)\n",
    "    return prediction\n",
    "    "
   ]
  },
  {
   "cell_type": "markdown",
   "id": "526753b1",
   "metadata": {},
   "source": [
    "To decide the number of K:\n",
    "\n",
    "we use heuristics method=sqrt of total record==> this as a nearest neigbour"
   ]
  },
  {
   "cell_type": "code",
   "execution_count": 19,
   "id": "151cafcf",
   "metadata": {},
   "outputs": [],
   "source": [
    "import math\n",
    "\n",
    "n=data.shape[0]\n",
    "K=math.sqrt(n)"
   ]
  },
  {
   "cell_type": "code",
   "execution_count": 20,
   "id": "01bb5cf0",
   "metadata": {},
   "outputs": [],
   "source": [
    "K=int(K)"
   ]
  },
  {
   "cell_type": "code",
   "execution_count": 23,
   "id": "681ea52a",
   "metadata": {},
   "outputs": [],
   "source": [
    "pred=knn_training(X_train,y_train,X_test,K)"
   ]
  },
  {
   "cell_type": "code",
   "execution_count": 24,
   "id": "5f279fe2",
   "metadata": {},
   "outputs": [
    {
     "data": {
      "text/plain": [
       "0.5581395348837209"
      ]
     },
     "execution_count": 24,
     "metadata": {},
     "output_type": "execute_result"
    }
   ],
   "source": [
    "accuracy_score(y_test,pred)"
   ]
  },
  {
   "cell_type": "code",
   "execution_count": null,
   "id": "5373aeae",
   "metadata": {},
   "outputs": [],
   "source": []
  },
  {
   "cell_type": "code",
   "execution_count": null,
   "id": "185d07fa",
   "metadata": {},
   "outputs": [],
   "source": []
  },
  {
   "cell_type": "code",
   "execution_count": null,
   "id": "725af3fa",
   "metadata": {},
   "outputs": [],
   "source": []
  },
  {
   "cell_type": "code",
   "execution_count": null,
   "id": "e2b07721",
   "metadata": {},
   "outputs": [],
   "source": []
  },
  {
   "cell_type": "code",
   "execution_count": null,
   "id": "f474b850",
   "metadata": {},
   "outputs": [],
   "source": []
  },
  {
   "cell_type": "code",
   "execution_count": null,
   "id": "7971f095",
   "metadata": {},
   "outputs": [],
   "source": []
  }
 ],
 "metadata": {
  "kernelspec": {
   "display_name": "base",
   "language": "python",
   "name": "python3"
  },
  "language_info": {
   "codemirror_mode": {
    "name": "ipython",
    "version": 3
   },
   "file_extension": ".py",
   "mimetype": "text/x-python",
   "name": "python",
   "nbconvert_exporter": "python",
   "pygments_lexer": "ipython3",
   "version": "3.12.4"
  }
 },
 "nbformat": 4,
 "nbformat_minor": 5
}
